{
 "cells": [
  {
   "cell_type": "code",
   "execution_count": 19,
   "id": "a0fa3b08-b264-4d78-bd3a-ddd43f4b559a",
   "metadata": {},
   "outputs": [],
   "source": [
    "import nltk\n",
    "from nltk.tokenize import word_tokenize\n",
    "from nltk.corpus import stopwords\n",
    "from nltk.stem import PorterStemmer, WordNetLemmatizer\n",
    "from nltk import pos_tag"
   ]
  },
  {
   "cell_type": "code",
   "execution_count": 20,
   "id": "a2861941-ced4-4002-82d3-4d082fc13370",
   "metadata": {},
   "outputs": [],
   "source": [
    "sample_doc = \"Text analytics is the process of analyzing unstructured text data to derive meaningful insights and patterns.\"\n"
   ]
  },
  {
   "cell_type": "code",
   "execution_count": 21,
   "id": "65169130-ef30-4eb9-9fd3-3dc9187879e2",
   "metadata": {},
   "outputs": [],
   "source": [
    "tokens = word_tokenize(sample_doc)\n"
   ]
  },
  {
   "cell_type": "code",
   "execution_count": 22,
   "id": "15ecee24-89d7-4abb-9684-cf40937efc4d",
   "metadata": {},
   "outputs": [
    {
     "data": {
      "text/plain": [
       "['Text',\n",
       " 'analytics',\n",
       " 'is',\n",
       " 'the',\n",
       " 'process',\n",
       " 'of',\n",
       " 'analyzing',\n",
       " 'unstructured',\n",
       " 'text',\n",
       " 'data',\n",
       " 'to',\n",
       " 'derive',\n",
       " 'meaningful',\n",
       " 'insights',\n",
       " 'and',\n",
       " 'patterns',\n",
       " '.']"
      ]
     },
     "execution_count": 22,
     "metadata": {},
     "output_type": "execute_result"
    }
   ],
   "source": [
    "tokens"
   ]
  },
  {
   "cell_type": "code",
   "execution_count": 25,
   "id": "f8dae6a2-bbe6-4e8e-8648-b8090e1b66cc",
   "metadata": {},
   "outputs": [],
   "source": [
    "tags = pos_tag(tokens)"
   ]
  },
  {
   "cell_type": "code",
   "execution_count": 26,
   "id": "256a7378-4d52-4729-8721-7168767992fa",
   "metadata": {},
   "outputs": [
    {
     "data": {
      "text/plain": [
       "[('Text', 'NN'),\n",
       " ('analytics', 'NNS'),\n",
       " ('is', 'VBZ'),\n",
       " ('the', 'DT'),\n",
       " ('process', 'NN'),\n",
       " ('of', 'IN'),\n",
       " ('analyzing', 'VBG'),\n",
       " ('unstructured', 'JJ'),\n",
       " ('text', 'NN'),\n",
       " ('data', 'NNS'),\n",
       " ('to', 'TO'),\n",
       " ('derive', 'VB'),\n",
       " ('meaningful', 'JJ'),\n",
       " ('insights', 'NNS'),\n",
       " ('and', 'CC'),\n",
       " ('patterns', 'NNS'),\n",
       " ('.', '.')]"
      ]
     },
     "execution_count": 26,
     "metadata": {},
     "output_type": "execute_result"
    }
   ],
   "source": [
    "tags"
   ]
  },
  {
   "cell_type": "code",
   "execution_count": 30,
   "id": "2262b5cf-5afd-41e4-b2c1-ad1c6c118595",
   "metadata": {},
   "outputs": [],
   "source": [
    "stopwords_set = set(stopwords.words('english'))"
   ]
  },
  {
   "cell_type": "code",
   "execution_count": 35,
   "id": "68cd9c5d-fdaa-4aa9-9c97-26a8fe9bf616",
   "metadata": {},
   "outputs": [],
   "source": [
    "filtered_tokens = [ word for word in tokens if word.lower() not in stopwords_set]"
   ]
  },
  {
   "cell_type": "code",
   "execution_count": 36,
   "id": "7173f834-eb20-421e-a1fc-6de972e04658",
   "metadata": {},
   "outputs": [
    {
     "data": {
      "text/plain": [
       "['Text',\n",
       " 'analytics',\n",
       " 'process',\n",
       " 'analyzing',\n",
       " 'unstructured',\n",
       " 'text',\n",
       " 'data',\n",
       " 'derive',\n",
       " 'meaningful',\n",
       " 'insights',\n",
       " 'patterns',\n",
       " '.']"
      ]
     },
     "execution_count": 36,
     "metadata": {},
     "output_type": "execute_result"
    }
   ],
   "source": [
    "filtered_tokens"
   ]
  },
  {
   "cell_type": "code",
   "execution_count": 38,
   "id": "a7bf20e0-3a9f-492c-b760-14589727c555",
   "metadata": {},
   "outputs": [],
   "source": [
    "stemmer = PorterStemmer()\n",
    "lemmatizer = WordNetLemmatizer()"
   ]
  },
  {
   "cell_type": "code",
   "execution_count": 39,
   "id": "937a62e8-7ac9-4d74-878b-a9fa4f09b156",
   "metadata": {},
   "outputs": [],
   "source": [
    "stemmed_tokens = [stemmer.stem(word) for word in filtered_tokens]"
   ]
  },
  {
   "cell_type": "code",
   "execution_count": 40,
   "id": "232f9879-9e20-4b15-9e44-3d1e6249a02e",
   "metadata": {},
   "outputs": [
    {
     "data": {
      "text/plain": [
       "['text',\n",
       " 'analyt',\n",
       " 'process',\n",
       " 'analyz',\n",
       " 'unstructur',\n",
       " 'text',\n",
       " 'data',\n",
       " 'deriv',\n",
       " 'meaning',\n",
       " 'insight',\n",
       " 'pattern',\n",
       " '.']"
      ]
     },
     "execution_count": 40,
     "metadata": {},
     "output_type": "execute_result"
    }
   ],
   "source": [
    "stemmed_tokens"
   ]
  },
  {
   "cell_type": "code",
   "execution_count": 44,
   "id": "4068fea7-94e5-42be-95eb-d79069c0bdb8",
   "metadata": {},
   "outputs": [],
   "source": [
    "lemmatized_tokens = [ lemmatizer.lemmatize(word) for word in filtered_tokens]"
   ]
  },
  {
   "cell_type": "code",
   "execution_count": 45,
   "id": "345865c9-d316-4d37-8872-bac809ddc747",
   "metadata": {},
   "outputs": [
    {
     "data": {
      "text/plain": [
       "['Text',\n",
       " 'analytics',\n",
       " 'process',\n",
       " 'analyzing',\n",
       " 'unstructured',\n",
       " 'text',\n",
       " 'data',\n",
       " 'derive',\n",
       " 'meaningful',\n",
       " 'insight',\n",
       " 'pattern',\n",
       " '.']"
      ]
     },
     "execution_count": 45,
     "metadata": {},
     "output_type": "execute_result"
    }
   ],
   "source": [
    "lemmatized_tokens"
   ]
  },
  {
   "cell_type": "code",
   "execution_count": 46,
   "id": "e7d5bafe-c048-4f85-a778-58e60c92d8f3",
   "metadata": {},
   "outputs": [],
   "source": [
    "processed_doc  = \"\".join(lemmatized_tokens)"
   ]
  },
  {
   "cell_type": "code",
   "execution_count": 48,
   "id": "d5e2bfdf-6c12-44ac-9497-e7679d4e88a7",
   "metadata": {},
   "outputs": [
    {
     "data": {
      "text/plain": [
       "'Textanalyticsprocessanalyzingunstructuredtextdataderivemeaningfulinsightpattern.'"
      ]
     },
     "execution_count": 48,
     "metadata": {},
     "output_type": "execute_result"
    }
   ],
   "source": [
    "processed_doc"
   ]
  },
  {
   "cell_type": "code",
   "execution_count": 50,
   "id": "c0b02748-39c5-4b2a-81a2-f260df9f160d",
   "metadata": {},
   "outputs": [],
   "source": [
    "from sklearn.feature_extraction.text import TfidfVectorizer"
   ]
  },
  {
   "cell_type": "code",
   "execution_count": 53,
   "id": "10c47a5e-dbb8-4436-9ae7-ba11cb8441a1",
   "metadata": {},
   "outputs": [],
   "source": [
    "TfIdf  = TfidfVectorizer()\n",
    "tfidf_matrix = TfIdf.fit_transform([processed_doc])"
   ]
  },
  {
   "cell_type": "code",
   "execution_count": 54,
   "id": "50b915c4-36d5-45f2-a412-370e894e9628",
   "metadata": {},
   "outputs": [
    {
     "data": {
      "text/plain": [
       "<1x1 sparse matrix of type '<class 'numpy.float64'>'\n",
       "\twith 1 stored elements in Compressed Sparse Row format>"
      ]
     },
     "execution_count": 54,
     "metadata": {},
     "output_type": "execute_result"
    }
   ],
   "source": [
    "tfidf_matrix"
   ]
  },
  {
   "cell_type": "code",
   "execution_count": 55,
   "id": "8c11a2e6-b5b7-4b30-9f12-3b10a87ee3b4",
   "metadata": {},
   "outputs": [],
   "source": [
    "feature_names = TfIdf.get_feature_names_out()"
   ]
  },
  {
   "cell_type": "code",
   "execution_count": 56,
   "id": "c32bb25b-b4f5-4b19-a6da-f1115d2365d3",
   "metadata": {},
   "outputs": [
    {
     "data": {
      "text/plain": [
       "array(['textanalyticsprocessanalyzingunstructuredtextdataderivemeaningfulinsightpattern'],\n",
       "      dtype=object)"
      ]
     },
     "execution_count": 56,
     "metadata": {},
     "output_type": "execute_result"
    }
   ],
   "source": [
    "feature_names"
   ]
  },
  {
   "cell_type": "code",
   "execution_count": 57,
   "id": "aa45d0bc-f87b-43f2-ab8e-f6da7c959717",
   "metadata": {},
   "outputs": [
    {
     "name": "stdout",
     "output_type": "stream",
     "text": [
      "textanalyticsprocessanalyzingunstructuredtextdataderivemeaningfulinsightpattern: 1.0\n"
     ]
    }
   ],
   "source": [
    "for col in tfidf_matrix.nonzero()[1]:\n",
    "    print(f\"{feature_names[col]}: {tfidf_matrix[0, col]}\")"
   ]
  },
  {
   "cell_type": "code",
   "execution_count": null,
   "id": "0da835ac-795a-4fdd-9329-146397d812a1",
   "metadata": {},
   "outputs": [],
   "source": []
  }
 ],
 "metadata": {
  "kernelspec": {
   "display_name": "Python 3 (ipykernel)",
   "language": "python",
   "name": "python3"
  },
  "language_info": {
   "codemirror_mode": {
    "name": "ipython",
    "version": 3
   },
   "file_extension": ".py",
   "mimetype": "text/x-python",
   "name": "python",
   "nbconvert_exporter": "python",
   "pygments_lexer": "ipython3",
   "version": "3.12.0"
  }
 },
 "nbformat": 4,
 "nbformat_minor": 5
}
